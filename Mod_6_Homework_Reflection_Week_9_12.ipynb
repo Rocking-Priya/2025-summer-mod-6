{
  "nbformat": 4,
  "nbformat_minor": 0,
  "metadata": {
    "colab": {
      "provenance": [],
      "authorship_tag": "ABX9TyMwZ263in01w3lpZz5qR12n",
      "include_colab_link": true
    },
    "kernelspec": {
      "name": "python3",
      "display_name": "Python 3"
    },
    "language_info": {
      "name": "python"
    }
  },
  "cells": [
    {
      "cell_type": "markdown",
      "metadata": {
        "id": "view-in-github",
        "colab_type": "text"
      },
      "source": [
        "<a href=\"https://colab.research.google.com/github/Rocking-Priya/2025-summer-mod-6/blob/main/Mod_6_Homework_Reflection_Week_9_12.ipynb\" target=\"_parent\"><img src=\"https://colab.research.google.com/assets/colab-badge.svg\" alt=\"Open In Colab\"/></a>"
      ]
    },
    {
      "cell_type": "markdown",
      "source": [
        "Homework Reflection 9\n",
        "\n",
        "1. Write some code that will use a simulation to estimate the standard deviation of the coefficient when there is heteroskedasticity.  \n",
        "Compare these standard errors to those found via statsmodels OLS or a similar linear regression model.\n",
        "\n",
        "2. Write some code that will use a simulation to estimate the standard deviation of the coefficient when errors are highly correlated / non-independent.\n",
        "Compare these standard errors to those found via statsmodels OlS or a similar linear regression model.\n",
        "\n",
        "Show that if the correlation between coefficients is high enough, then the estimated standard deviation of the coefficient, using bootstrap errors,\n",
        "might not match that found by a full simulation of the Data Generating Process.  (This can be fixed if you have a huge amount of data for the bootstrap simulation.)"
      ],
      "metadata": {
        "id": "69Oe34Irh7bf"
      }
    },
    {
      "cell_type": "markdown",
      "source": [
        "Estimate standard error under heteroskedasticity\n",
        "\n",
        "Heteroskedasticity = error variance changes with X or W."
      ],
      "metadata": {
        "id": "ZEpdk336kSj8"
      }
    },
    {
      "cell_type": "code",
      "source": [
        "import numpy as np\n",
        "import statsmodels.api as sm"
      ],
      "metadata": {
        "id": "6mIddblKNVwY"
      },
      "execution_count": 1,
      "outputs": []
    },
    {
      "cell_type": "code",
      "execution_count": 4,
      "metadata": {
        "colab": {
          "base_uri": "https://localhost:8080/"
        },
        "id": "i_QArm6Th6Q6",
        "outputId": "71b13a7a-490f-4f0b-c765-8a757dc75191"
      },
      "outputs": [
        {
          "output_type": "stream",
          "name": "stdout",
          "text": [
            "Simulated std of beta (X): 0.0474\n"
          ]
        }
      ],
      "source": [
        "import numpy as np\n",
        "import statsmodels.api as sm\n",
        "\n",
        "# Set simulation parameters\n",
        "np.random.seed(42)\n",
        "n_simulations = 1000\n",
        "n = 1000\n",
        "beta_estimates = []\n",
        "\n",
        "for _ in range(n_simulations):\n",
        "    W = np.random.normal(0, 1, n)\n",
        "    X = W + np.random.normal(0, 1, n)\n",
        "    # Heteroskedastic noise: depends on W\n",
        "    noise = np.random.normal(0, 1 + 0.5 * np.abs(W))\n",
        "    Y = 1 * X - W + noise\n",
        "\n",
        "    # Add constant for OLS\n",
        "    XW = sm.add_constant(np.column_stack([X, W]))\n",
        "    model = sm.OLS(Y, XW).fit()\n",
        "    beta_estimates.append(model.params[1])  # coefficient for X\n",
        "\n",
        "# Simulation-based standard deviation of X's coefficient\n",
        "simulated_std = np.std(beta_estimates)\n",
        "print(f\"Simulated std of beta (X): {simulated_std:.4f}\")\n"
      ]
    },
    {
      "cell_type": "code",
      "source": [
        "print(np.std(beta_estimates))\n"
      ],
      "metadata": {
        "colab": {
          "base_uri": "https://localhost:8080/"
        },
        "id": "j8EExen0QKBg",
        "outputId": "a574527a-1386-479f-8331-05fdb29e9863"
      },
      "execution_count": 11,
      "outputs": [
        {
          "output_type": "stream",
          "name": "stdout",
          "text": [
            "0.047403283183051995\n"
          ]
        }
      ]
    },
    {
      "cell_type": "code",
      "source": [
        "from scipy.stats import skew\n",
        "print(skew(beta_estimates))\n"
      ],
      "metadata": {
        "colab": {
          "base_uri": "https://localhost:8080/"
        },
        "id": "w6AG5EGfQNBx",
        "outputId": "266d768e-a9da-4043-a3f1-5bda951178ad"
      },
      "execution_count": 12,
      "outputs": [
        {
          "output_type": "stream",
          "name": "stdout",
          "text": [
            "-0.09132191293582789\n"
          ]
        }
      ]
    },
    {
      "cell_type": "markdown",
      "source": [
        "Compare to statsmodels’ OLS standard error (one run)"
      ],
      "metadata": {
        "id": "0QdbvvL3kbyS"
      }
    },
    {
      "cell_type": "code",
      "source": [
        "# Just one regression to compare OLS standard error\n",
        "W = np.random.normal(0, 1, n)\n",
        "X = W + np.random.normal(0, 1, n)\n",
        "noise = np.random.normal(0, 1 + 0.5 * np.abs(W))\n",
        "Y = 1 * X - W + noise\n",
        "\n",
        "XW = sm.add_constant(np.column_stack([X, W]))\n",
        "model = sm.OLS(Y, XW).fit()\n",
        "ols_std = model.bse[1]  # standard error of X\n",
        "print(f\"OLS std of beta (X): {ols_std:.4f}\")\n"
      ],
      "metadata": {
        "colab": {
          "base_uri": "https://localhost:8080/"
        },
        "id": "s6tGojWajzEi",
        "outputId": "a939e845-62ef-4f92-fe7c-d0af3323aed9"
      },
      "execution_count": 5,
      "outputs": [
        {
          "output_type": "stream",
          "name": "stdout",
          "text": [
            "OLS std of beta (X): 0.0439\n"
          ]
        }
      ]
    },
    {
      "cell_type": "markdown",
      "source": [
        "Estimate std error when errors are correlated\n",
        "\n",
        "Non-independent errors = correlation between nearby error terms.\n",
        "\n",
        "\n"
      ],
      "metadata": {
        "id": "ATgvHO4mkfoT"
      }
    },
    {
      "cell_type": "code",
      "source": [
        "from scipy.stats import norm\n",
        "\n",
        "beta_corr_estimates = []\n",
        "for _ in range(n_simulations):\n",
        "    W = np.random.normal(0, 1, n)\n",
        "    X = W + np.random.normal(0, 1, n)\n",
        "\n",
        "    # Correlated errors: add AR(1)-style autocorrelation\n",
        "    epsilon = np.random.normal(0, 1, n)\n",
        "    for i in range(1, n):\n",
        "        epsilon[i] += 0.9 * epsilon[i-1]  # correlation with previous error\n",
        "\n",
        "    Y = 1 * X - W + epsilon\n",
        "\n",
        "    XW = sm.add_constant(np.column_stack([X, W]))\n",
        "    model = sm.OLS(Y, XW).fit()\n",
        "    beta_corr_estimates.append(model.params[1])\n",
        "\n",
        "# Standard deviation from simulation\n",
        "simulated_corr_std = np.std(beta_corr_estimates)\n",
        "print(f\"Simulated std with correlated errors: {simulated_corr_std:.4f}\")\n"
      ],
      "metadata": {
        "colab": {
          "base_uri": "https://localhost:8080/"
        },
        "id": "pAGSPkhAj3Sb",
        "outputId": "820fdafe-8ac6-47e9-dba0-568b8584c3fc"
      },
      "execution_count": 6,
      "outputs": [
        {
          "output_type": "stream",
          "name": "stdout",
          "text": [
            "Simulated std with correlated errors: 0.0743\n"
          ]
        }
      ]
    },
    {
      "cell_type": "markdown",
      "source": [
        "Show bootstrap error can mismatch under high collinearity\n",
        "\n",
        "Let’s show if X and W are highly correlated, bootstrap errors might not match the truth."
      ],
      "metadata": {
        "id": "bgI7PL1LksUi"
      }
    },
    {
      "cell_type": "code",
      "source": [
        "from sklearn.utils import resample\n",
        "\n",
        "# Generate one dataset with highly correlated X and W\n",
        "W = np.random.normal(0, 1, n)\n",
        "X = W + np.random.normal(0, 0.01, n)  # very little noise → X ≈ W\n",
        "Y = 1 * X - W + np.random.normal(0, 1, n)\n",
        "\n",
        "# Run bootstrap\n",
        "bootstrap_betas = []\n",
        "for _ in range(500):\n",
        "    Y_sample, X_sample, W_sample = resample(Y, X, W)\n",
        "    XW_sample = sm.add_constant(np.column_stack([X_sample, W_sample]))\n",
        "    model = sm.OLS(Y_sample, XW_sample).fit()\n",
        "    bootstrap_betas.append(model.params[1])\n",
        "\n",
        "# Bootstrap std\n",
        "bootstrap_std = np.std(bootstrap_betas)\n",
        "print(f\"Bootstrap std with high collinearity: {bootstrap_std:.4f}\")\n",
        "\n",
        "# Compare to statsmodels\n",
        "XW = sm.add_constant(np.column_stack([X, W]))\n",
        "model = sm.OLS(Y, XW).fit()\n",
        "ols_std = model.bse[1]\n",
        "print(f\"OLS std with high collinearity: {ols_std:.4f}\")\n"
      ],
      "metadata": {
        "colab": {
          "base_uri": "https://localhost:8080/"
        },
        "id": "ZuE9eN8Xj6vl",
        "outputId": "46849dc1-0648-4505-9a27-e124a63de1d4"
      },
      "execution_count": 7,
      "outputs": [
        {
          "output_type": "stream",
          "name": "stdout",
          "text": [
            "Bootstrap std with high collinearity: 3.2284\n",
            "OLS std with high collinearity: 3.2500\n"
          ]
        }
      ]
    },
    {
      "cell_type": "code",
      "source": [
        "n_simulations = 1000\n",
        "significant_count = 0\n",
        "n = 1000\n",
        "\n",
        "for _ in range(n_simulations):\n",
        "    # Simulate data using the same logic as in previous cells\n",
        "    W = np.random.normal(0, 1, n)\n",
        "    X = W + np.random.normal(0, 1, n)\n",
        "    # Heteroskedastic noise: depends on W\n",
        "    noise = np.random.normal(0, 1 + 0.5 * np.abs(W))\n",
        "    Y = 1 * X - W + noise\n",
        "\n",
        "    XW = sm.add_constant(np.column_stack([X, W]))\n",
        "    model = sm.OLS(Y, XW).fit()\n",
        "\n",
        "    t_value = model.tvalues[1]  # t-value of X\n",
        "    if abs(t_value) > 1.96:\n",
        "        significant_count += 1\n",
        "\n",
        "power = significant_count / n_simulations\n",
        "print(f\"Power ≈ {power:.2%}\")"
      ],
      "metadata": {
        "colab": {
          "base_uri": "https://localhost:8080/"
        },
        "id": "2JBTh_eSNzoh",
        "outputId": "9cf670e7-6a2d-4e21-9f6a-f2e6954f6295"
      },
      "execution_count": 9,
      "outputs": [
        {
          "output_type": "stream",
          "name": "stdout",
          "text": [
            "Power ≈ 100.00%\n"
          ]
        }
      ]
    },
    {
      "cell_type": "code",
      "source": [
        "\n",
        "\n",
        "np.random.seed(42)\n",
        "\n",
        "def simulate_power(B, A=1, C=10, D=1000, n_simulations=500):\n",
        "    detected = 0\n",
        "    for _ in range(n_simulations):\n",
        "        W = np.random.normal(0, 1, D)\n",
        "        X = W + np.random.normal(0, B, D)\n",
        "        Y = A * X - W + np.random.normal(0, C, D)\n",
        "        XW = sm.add_constant(np.column_stack([X, W]))\n",
        "        model = sm.OLS(Y, XW).fit()\n",
        "        t_value = model.tvalues[1]  # t-value for X\n",
        "        if abs(t_value) > 1.96:\n",
        "            detected += 1\n",
        "    return detected / n_simulations  # return proportion detected\n",
        "\n",
        "# Try different values of B\n",
        "B_values = [0.2, 0.6, 1.8, 5.4]\n",
        "for B in B_values:\n",
        "    power = simulate_power(B)\n",
        "    print(f\"B = {B}: Detection rate ≈ {power:.2f}\")\n"
      ],
      "metadata": {
        "colab": {
          "base_uri": "https://localhost:8080/"
        },
        "id": "dLM7N-gZQ4Iq",
        "outputId": "cde8ff32-adc4-4b52-de35-8fb35a1abc81"
      },
      "execution_count": 14,
      "outputs": [
        {
          "output_type": "stream",
          "name": "stdout",
          "text": [
            "B = 0.2: Detection rate ≈ 0.11\n",
            "B = 0.6: Detection rate ≈ 0.47\n",
            "B = 1.8: Detection rate ≈ 1.00\n",
            "B = 5.4: Detection rate ≈ 1.00\n"
          ]
        }
      ]
    },
    {
      "cell_type": "code",
      "source": [
        "\n",
        "\n",
        "np.random.seed(42)\n",
        "n_simulations = 1000\n",
        "n = 100  # D = 100\n",
        "\n",
        "detection_rates = []\n",
        "\n",
        "for A in [0.5, 1.0, 2.0, 4.0]:\n",
        "    detections = 0\n",
        "    for _ in range(n_simulations):\n",
        "        W = np.random.normal(0, 1, n)\n",
        "        X = W + np.random.normal(0, 1, n)  # B = 1\n",
        "        Y = A * X - W + np.random.normal(0, 10, n)  # C = 10\n",
        "\n",
        "        XW = sm.add_constant(np.column_stack([X, W]))\n",
        "        model = sm.OLS(Y, XW).fit()\n",
        "        t_value = model.tvalues[1]  # t-stat for X\n",
        "        if abs(t_value) > 1.96:\n",
        "            detections += 1\n",
        "    detection_rate = detections / n_simulations\n",
        "    detection_rates.append((A, detection_rate))\n",
        "    print(f\"A = {A}, Detection rate = {detection_rate:.2f}\")\n"
      ],
      "metadata": {
        "colab": {
          "base_uri": "https://localhost:8080/"
        },
        "id": "G63t3Bf3RwLo",
        "outputId": "8e8db2a6-c9c9-40cc-9364-c995afff83a7"
      },
      "execution_count": 15,
      "outputs": [
        {
          "output_type": "stream",
          "name": "stdout",
          "text": [
            "A = 0.5, Detection rate = 0.08\n",
            "A = 1.0, Detection rate = 0.16\n",
            "A = 2.0, Detection rate = 0.51\n",
            "A = 4.0, Detection rate = 0.98\n"
          ]
        }
      ]
    }
  ]
}