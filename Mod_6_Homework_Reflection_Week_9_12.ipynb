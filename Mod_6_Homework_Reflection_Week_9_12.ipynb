{
  "nbformat": 4,
  "nbformat_minor": 0,
  "metadata": {
    "colab": {
      "provenance": [],
      "authorship_tag": "ABX9TyPBtypYI2vfcsDChQbAP41m",
      "include_colab_link": true
    },
    "kernelspec": {
      "name": "python3",
      "display_name": "Python 3"
    },
    "language_info": {
      "name": "python"
    }
  },
  "cells": [
    {
      "cell_type": "markdown",
      "metadata": {
        "id": "view-in-github",
        "colab_type": "text"
      },
      "source": [
        "<a href=\"https://colab.research.google.com/github/Rocking-Priya/2025-summer-mod-6/blob/main/Mod_6_Homework_Reflection_Week_9_12.ipynb\" target=\"_parent\"><img src=\"https://colab.research.google.com/assets/colab-badge.svg\" alt=\"Open In Colab\"/></a>"
      ]
    },
    {
      "cell_type": "markdown",
      "source": [
        "Homework Reflection 9\n",
        "\n",
        "1. Write some code that will use a simulation to estimate the standard deviation of the coefficient when there is heteroskedasticity.  \n",
        "Compare these standard errors to those found via statsmodels OLS or a similar linear regression model.\n",
        "\n",
        "2. Write some code that will use a simulation to estimate the standard deviation of the coefficient when errors are highly correlated / non-independent.\n",
        "Compare these standard errors to those found via statsmodels OlS or a similar linear regression model.\n",
        "\n",
        "Show that if the correlation between coefficients is high enough, then the estimated standard deviation of the coefficient, using bootstrap errors,\n",
        "might not match that found by a full simulation of the Data Generating Process.  (This can be fixed if you have a huge amount of data for the bootstrap simulation.)"
      ],
      "metadata": {
        "id": "69Oe34Irh7bf"
      }
    },
    {
      "cell_type": "markdown",
      "source": [
        "Estimate standard error under heteroskedasticity\n",
        "\n",
        "Heteroskedasticity = error variance changes with X or W."
      ],
      "metadata": {
        "id": "ZEpdk336kSj8"
      }
    },
    {
      "cell_type": "code",
      "source": [
        "import numpy as np\n",
        "import statsmodels.api as sm"
      ],
      "metadata": {
        "id": "6mIddblKNVwY"
      },
      "execution_count": 1,
      "outputs": []
    },
    {
      "cell_type": "code",
      "execution_count": null,
      "metadata": {
        "colab": {
          "base_uri": "https://localhost:8080/"
        },
        "id": "i_QArm6Th6Q6",
        "outputId": "71b13a7a-490f-4f0b-c765-8a757dc75191"
      },
      "outputs": [
        {
          "output_type": "stream",
          "name": "stdout",
          "text": [
            "Simulated std of beta (X): 0.0474\n"
          ]
        }
      ],
      "source": [
        "import numpy as np\n",
        "import statsmodels.api as sm\n",
        "\n",
        "# Set simulation parameters\n",
        "np.random.seed(42)\n",
        "n_simulations = 1000\n",
        "n = 1000\n",
        "beta_estimates = []\n",
        "\n",
        "for _ in range(n_simulations):\n",
        "    W = np.random.normal(0, 1, n)\n",
        "    X = W + np.random.normal(0, 1, n)\n",
        "    # Heteroskedastic noise: depends on W\n",
        "    noise = np.random.normal(0, 1 + 0.5 * np.abs(W))\n",
        "    Y = 1 * X - W + noise\n",
        "\n",
        "    # Add constant for OLS\n",
        "    XW = sm.add_constant(np.column_stack([X, W]))\n",
        "    model = sm.OLS(Y, XW).fit()\n",
        "    beta_estimates.append(model.params[1])  # coefficient for X\n",
        "\n",
        "# Simulation-based standard deviation of X's coefficient\n",
        "simulated_std = np.std(beta_estimates)\n",
        "print(f\"Simulated std of beta (X): {simulated_std:.4f}\")\n"
      ]
    },
    {
      "cell_type": "code",
      "source": [
        "print(np.std(beta_estimates))\n"
      ],
      "metadata": {
        "colab": {
          "base_uri": "https://localhost:8080/"
        },
        "id": "j8EExen0QKBg",
        "outputId": "a574527a-1386-479f-8331-05fdb29e9863"
      },
      "execution_count": null,
      "outputs": [
        {
          "output_type": "stream",
          "name": "stdout",
          "text": [
            "0.047403283183051995\n"
          ]
        }
      ]
    },
    {
      "cell_type": "code",
      "source": [
        "from scipy.stats import skew\n",
        "print(skew(beta_estimates))\n"
      ],
      "metadata": {
        "colab": {
          "base_uri": "https://localhost:8080/"
        },
        "id": "w6AG5EGfQNBx",
        "outputId": "266d768e-a9da-4043-a3f1-5bda951178ad"
      },
      "execution_count": null,
      "outputs": [
        {
          "output_type": "stream",
          "name": "stdout",
          "text": [
            "-0.09132191293582789\n"
          ]
        }
      ]
    },
    {
      "cell_type": "markdown",
      "source": [
        "Compare to statsmodels’ OLS standard error (one run)"
      ],
      "metadata": {
        "id": "0QdbvvL3kbyS"
      }
    },
    {
      "cell_type": "code",
      "source": [
        "# Just one regression to compare OLS standard error\n",
        "W = np.random.normal(0, 1, n)\n",
        "X = W + np.random.normal(0, 1, n)\n",
        "noise = np.random.normal(0, 1 + 0.5 * np.abs(W))\n",
        "Y = 1 * X - W + noise\n",
        "\n",
        "XW = sm.add_constant(np.column_stack([X, W]))\n",
        "model = sm.OLS(Y, XW).fit()\n",
        "ols_std = model.bse[1]  # standard error of X\n",
        "print(f\"OLS std of beta (X): {ols_std:.4f}\")\n"
      ],
      "metadata": {
        "colab": {
          "base_uri": "https://localhost:8080/"
        },
        "id": "s6tGojWajzEi",
        "outputId": "a939e845-62ef-4f92-fe7c-d0af3323aed9"
      },
      "execution_count": null,
      "outputs": [
        {
          "output_type": "stream",
          "name": "stdout",
          "text": [
            "OLS std of beta (X): 0.0439\n"
          ]
        }
      ]
    },
    {
      "cell_type": "markdown",
      "source": [
        "Estimate std error when errors are correlated\n",
        "\n",
        "Non-independent errors = correlation between nearby error terms.\n",
        "\n",
        "\n"
      ],
      "metadata": {
        "id": "ATgvHO4mkfoT"
      }
    },
    {
      "cell_type": "code",
      "source": [
        "from scipy.stats import norm\n",
        "\n",
        "beta_corr_estimates = []\n",
        "for _ in range(n_simulations):\n",
        "    W = np.random.normal(0, 1, n)\n",
        "    X = W + np.random.normal(0, 1, n)\n",
        "\n",
        "    # Correlated errors: add AR(1)-style autocorrelation\n",
        "    epsilon = np.random.normal(0, 1, n)\n",
        "    for i in range(1, n):\n",
        "        epsilon[i] += 0.9 * epsilon[i-1]  # correlation with previous error\n",
        "\n",
        "    Y = 1 * X - W + epsilon\n",
        "\n",
        "    XW = sm.add_constant(np.column_stack([X, W]))\n",
        "    model = sm.OLS(Y, XW).fit()\n",
        "    beta_corr_estimates.append(model.params[1])\n",
        "\n",
        "# Standard deviation from simulation\n",
        "simulated_corr_std = np.std(beta_corr_estimates)\n",
        "print(f\"Simulated std with correlated errors: {simulated_corr_std:.4f}\")\n"
      ],
      "metadata": {
        "colab": {
          "base_uri": "https://localhost:8080/"
        },
        "id": "pAGSPkhAj3Sb",
        "outputId": "820fdafe-8ac6-47e9-dba0-568b8584c3fc"
      },
      "execution_count": null,
      "outputs": [
        {
          "output_type": "stream",
          "name": "stdout",
          "text": [
            "Simulated std with correlated errors: 0.0743\n"
          ]
        }
      ]
    },
    {
      "cell_type": "markdown",
      "source": [
        "Show bootstrap error can mismatch under high collinearity\n",
        "\n",
        "Let’s show if X and W are highly correlated, bootstrap errors might not match the truth."
      ],
      "metadata": {
        "id": "bgI7PL1LksUi"
      }
    },
    {
      "cell_type": "code",
      "source": [
        "from sklearn.utils import resample\n",
        "\n",
        "# Generate one dataset with highly correlated X and W\n",
        "W = np.random.normal(0, 1, n)\n",
        "X = W + np.random.normal(0, 0.01, n)  # very little noise → X ≈ W\n",
        "Y = 1 * X - W + np.random.normal(0, 1, n)\n",
        "\n",
        "# Run bootstrap\n",
        "bootstrap_betas = []\n",
        "for _ in range(500):\n",
        "    Y_sample, X_sample, W_sample = resample(Y, X, W)\n",
        "    XW_sample = sm.add_constant(np.column_stack([X_sample, W_sample]))\n",
        "    model = sm.OLS(Y_sample, XW_sample).fit()\n",
        "    bootstrap_betas.append(model.params[1])\n",
        "\n",
        "# Bootstrap std\n",
        "bootstrap_std = np.std(bootstrap_betas)\n",
        "print(f\"Bootstrap std with high collinearity: {bootstrap_std:.4f}\")\n",
        "\n",
        "# Compare to statsmodels\n",
        "XW = sm.add_constant(np.column_stack([X, W]))\n",
        "model = sm.OLS(Y, XW).fit()\n",
        "ols_std = model.bse[1]\n",
        "print(f\"OLS std with high collinearity: {ols_std:.4f}\")\n"
      ],
      "metadata": {
        "colab": {
          "base_uri": "https://localhost:8080/"
        },
        "id": "ZuE9eN8Xj6vl",
        "outputId": "46849dc1-0648-4505-9a27-e124a63de1d4"
      },
      "execution_count": null,
      "outputs": [
        {
          "output_type": "stream",
          "name": "stdout",
          "text": [
            "Bootstrap std with high collinearity: 3.2284\n",
            "OLS std with high collinearity: 3.2500\n"
          ]
        }
      ]
    },
    {
      "cell_type": "code",
      "source": [
        "n_simulations = 1000\n",
        "significant_count = 0\n",
        "n = 1000\n",
        "\n",
        "for _ in range(n_simulations):\n",
        "    # Simulate data using the same logic as in previous cells\n",
        "    W = np.random.normal(0, 1, n)\n",
        "    X = W + np.random.normal(0, 1, n)\n",
        "    # Heteroskedastic noise: depends on W\n",
        "    noise = np.random.normal(0, 1 + 0.5 * np.abs(W))\n",
        "    Y = 1 * X - W + noise\n",
        "\n",
        "    XW = sm.add_constant(np.column_stack([X, W]))\n",
        "    model = sm.OLS(Y, XW).fit()\n",
        "\n",
        "    t_value = model.tvalues[1]  # t-value of X\n",
        "    if abs(t_value) > 1.96:\n",
        "        significant_count += 1\n",
        "\n",
        "power = significant_count / n_simulations\n",
        "print(f\"Power ≈ {power:.2%}\")"
      ],
      "metadata": {
        "colab": {
          "base_uri": "https://localhost:8080/"
        },
        "id": "2JBTh_eSNzoh",
        "outputId": "9cf670e7-6a2d-4e21-9f6a-f2e6954f6295"
      },
      "execution_count": null,
      "outputs": [
        {
          "output_type": "stream",
          "name": "stdout",
          "text": [
            "Power ≈ 100.00%\n"
          ]
        }
      ]
    },
    {
      "cell_type": "code",
      "source": [
        "\n",
        "\n",
        "np.random.seed(42)\n",
        "\n",
        "def simulate_power(B, A=1, C=10, D=1000, n_simulations=500):\n",
        "    detected = 0\n",
        "    for _ in range(n_simulations):\n",
        "        W = np.random.normal(0, 1, D)\n",
        "        X = W + np.random.normal(0, B, D)\n",
        "        Y = A * X - W + np.random.normal(0, C, D)\n",
        "        XW = sm.add_constant(np.column_stack([X, W]))\n",
        "        model = sm.OLS(Y, XW).fit()\n",
        "        t_value = model.tvalues[1]  # t-value for X\n",
        "        if abs(t_value) > 1.96:\n",
        "            detected += 1\n",
        "    return detected / n_simulations  # return proportion detected\n",
        "\n",
        "# Try different values of B\n",
        "B_values = [0.2, 0.6, 1.8, 5.4]\n",
        "for B in B_values:\n",
        "    power = simulate_power(B)\n",
        "    print(f\"B = {B}: Detection rate ≈ {power:.2f}\")\n"
      ],
      "metadata": {
        "colab": {
          "base_uri": "https://localhost:8080/"
        },
        "id": "dLM7N-gZQ4Iq",
        "outputId": "cde8ff32-adc4-4b52-de35-8fb35a1abc81"
      },
      "execution_count": null,
      "outputs": [
        {
          "output_type": "stream",
          "name": "stdout",
          "text": [
            "B = 0.2: Detection rate ≈ 0.11\n",
            "B = 0.6: Detection rate ≈ 0.47\n",
            "B = 1.8: Detection rate ≈ 1.00\n",
            "B = 5.4: Detection rate ≈ 1.00\n"
          ]
        }
      ]
    },
    {
      "cell_type": "code",
      "source": [
        "\n",
        "\n",
        "np.random.seed(42)\n",
        "n_simulations = 1000\n",
        "n = 100  # D = 100\n",
        "\n",
        "detection_rates = []\n",
        "\n",
        "for A in [0.5, 1.0, 2.0, 4.0]:\n",
        "    detections = 0\n",
        "    for _ in range(n_simulations):\n",
        "        W = np.random.normal(0, 1, n)\n",
        "        X = W + np.random.normal(0, 1, n)  # B = 1\n",
        "        Y = A * X - W + np.random.normal(0, 10, n)  # C = 10\n",
        "\n",
        "        XW = sm.add_constant(np.column_stack([X, W]))\n",
        "        model = sm.OLS(Y, XW).fit()\n",
        "        t_value = model.tvalues[1]  # t-stat for X\n",
        "        if abs(t_value) > 1.96:\n",
        "            detections += 1\n",
        "    detection_rate = detections / n_simulations\n",
        "    detection_rates.append((A, detection_rate))\n",
        "    print(f\"A = {A}, Detection rate = {detection_rate:.2f}\")\n"
      ],
      "metadata": {
        "colab": {
          "base_uri": "https://localhost:8080/"
        },
        "id": "G63t3Bf3RwLo",
        "outputId": "8e8db2a6-c9c9-40cc-9364-c995afff83a7"
      },
      "execution_count": null,
      "outputs": [
        {
          "output_type": "stream",
          "name": "stdout",
          "text": [
            "A = 0.5, Detection rate = 0.08\n",
            "A = 1.0, Detection rate = 0.16\n",
            "A = 2.0, Detection rate = 0.51\n",
            "A = 4.0, Detection rate = 0.98\n"
          ]
        }
      ]
    },
    {
      "cell_type": "markdown",
      "source": [
        "\n",
        "Homework Reflection 11\n",
        "\n",
        "1. Construct a dataset for an event study where the value, derivative, and second derivative of a trend all change discontinuously (suddenly) after an event.\n",
        "Build a model that tries to decide whether the event is real (has a nonzero effect) using:\n",
        "(a) only the value,\n",
        "(b) the value, derivative, and second derivative.\n",
        "Which of these models is better at detecting and/or quantifying the impact of the event?  (What might \"better\" mean here?)\n",
        "\n",
        "2. Construct a dataset in which there are three groups whose values each increase discontinuously (suddenly) by the same amount at a shared event; they change in parallel\n",
        "over time, but they have different starting values.  Create a model that combines group fixed effects with an event study, as suggested in the online reading.\n",
        "Explain what you did, how the model works, and how it accounts for both baseline differences and the common event effect."
      ],
      "metadata": {
        "id": "42UMqY_xyajb"
      }
    },
    {
      "cell_type": "code",
      "source": [
        "import numpy as np\n",
        "import pandas as pd\n",
        "import matplotlib.pyplot as plt\n",
        "import statsmodels.api as sm\n",
        "import statsmodels.formula.api as smf\n",
        "\n",
        "# Step 1: Simulate the dataset for event study with discontinuous changes\n",
        "np.random.seed(0)\n",
        "time = np.arange(20)\n",
        "event_time = 10\n",
        "\n",
        "# Pre-event trend (linear)\n",
        "pre_event = time[:event_time]\n",
        "post_event = time[event_time:]\n",
        "\n",
        "# Create values with jump in value, slope (1st derivative), and acceleration (2nd derivative)\n",
        "y = np.concatenate([\n",
        "    2 * pre_event + 5,                                # before event: linear trend\n",
        "    2 * post_event + 5 + 10 + 3 * (post_event - 10) + 2 * (post_event - 10)**2  # after event: jump + new slope + curve\n",
        "])\n",
        "\n",
        "df_event = pd.DataFrame({'time': time, 'y': y})\n",
        "\n",
        "# Add 1st and 2nd derivative manually (finite difference approximations)\n",
        "df_event['dy'] = df_event['y'].diff().fillna(0)\n",
        "df_event['d2y'] = df_event['dy'].diff().fillna(0)\n",
        "\n",
        "# Step 2: Create models\n",
        "# a) Model with only y\n",
        "df_event['event'] = (df_event['time'] >= event_time).astype(int)\n",
        "model_y = smf.ols('y ~ event', data=df_event).fit()\n",
        "\n",
        "# b) Model with y, dy, and d2y\n",
        "model_full = smf.ols('event ~ y + dy + d2y', data=df_event).fit()\n",
        "\n",
        "# Output summaries\n",
        "model_y_summary = model_y.summary()\n",
        "model_full_summary = model_full.summary()\n",
        "\n",
        "df_event.head(), model_y_summary, model_full_summary\n"
      ],
      "metadata": {
        "id": "_pgLZo6T0dXc",
        "outputId": "1230d6bb-231f-4c91-b321-e35cafce7881",
        "colab": {
          "base_uri": "https://localhost:8080/"
        }
      },
      "execution_count": 5,
      "outputs": [
        {
          "output_type": "execute_result",
          "data": {
            "text/plain": [
              "(   time   y   dy  d2y  event\n",
              " 0     0   5  0.0  0.0      0\n",
              " 1     1   7  2.0  2.0      0\n",
              " 2     2   9  2.0  0.0      0\n",
              " 3     3  11  2.0  0.0      0\n",
              " 4     4  13  2.0  0.0      0,\n",
              " <class 'statsmodels.iolib.summary.Summary'>\n",
              " \"\"\"\n",
              "                             OLS Regression Results                            \n",
              " ==============================================================================\n",
              " Dep. Variable:                      y   R-squared:                       0.523\n",
              " Model:                            OLS   Adj. R-squared:                  0.496\n",
              " Method:                 Least Squares   F-statistic:                     19.73\n",
              " Date:                Wed, 23 Jul 2025   Prob (F-statistic):           0.000315\n",
              " Time:                        01:09:56   Log-Likelihood:                -105.80\n",
              " No. Observations:                  20   AIC:                             215.6\n",
              " Df Residuals:                      18   BIC:                             217.6\n",
              " Df Model:                           1                                         \n",
              " Covariance Type:            nonrobust                                         \n",
              " ==============================================================================\n",
              "                  coef    std err          t      P>|t|      [0.025      0.975]\n",
              " ------------------------------------------------------------------------------\n",
              " Intercept     14.0000     16.001      0.875      0.393     -19.616      47.616\n",
              " event        100.5000     22.629      4.441      0.000      52.959     148.041\n",
              " ==============================================================================\n",
              " Omnibus:                        4.983   Durbin-Watson:                   0.295\n",
              " Prob(Omnibus):                  0.083   Jarque-Bera (JB):                2.730\n",
              " Skew:                           0.765   Prob(JB):                        0.255\n",
              " Kurtosis:                       3.967   Cond. No.                         2.62\n",
              " ==============================================================================\n",
              " \n",
              " Notes:\n",
              " [1] Standard Errors assume that the covariance matrix of the errors is correctly specified.\n",
              " \"\"\",\n",
              " <class 'statsmodels.iolib.summary.Summary'>\n",
              " \"\"\"\n",
              "                             OLS Regression Results                            \n",
              " ==============================================================================\n",
              " Dep. Variable:                  event   R-squared:                       0.833\n",
              " Model:                            OLS   Adj. R-squared:                  0.802\n",
              " Method:                 Least Squares   F-statistic:                     26.68\n",
              " Date:                Wed, 23 Jul 2025   Prob (F-statistic):           1.83e-06\n",
              " Time:                        01:09:56   Log-Likelihood:                 3.4047\n",
              " No. Observations:                  20   AIC:                             1.191\n",
              " Df Residuals:                      16   BIC:                             5.174\n",
              " Df Model:                           3                                         \n",
              " Covariance Type:            nonrobust                                         \n",
              " ==============================================================================\n",
              "                  coef    std err          t      P>|t|      [0.025      0.975]\n",
              " ------------------------------------------------------------------------------\n",
              " Intercept      0.1105      0.071      1.561      0.138      -0.040       0.261\n",
              " y             -0.0214      0.005     -3.903      0.001      -0.033      -0.010\n",
              " dy             0.1562      0.033      4.715      0.000       0.086       0.226\n",
              " d2y           -0.0448      0.028     -1.592      0.131      -0.104       0.015\n",
              " ==============================================================================\n",
              " Omnibus:                        6.011   Durbin-Watson:                   0.427\n",
              " Prob(Omnibus):                  0.050   Jarque-Bera (JB):                4.100\n",
              " Skew:                           1.092   Prob(JB):                        0.129\n",
              " Kurtosis:                       3.384   Cond. No.                         134.\n",
              " ==============================================================================\n",
              " \n",
              " Notes:\n",
              " [1] Standard Errors assume that the covariance matrix of the errors is correctly specified.\n",
              " \"\"\")"
            ]
          },
          "metadata": {},
          "execution_count": 5
        }
      ]
    },
    {
      "cell_type": "code",
      "source": [
        "import pandas as pd\n",
        "import statsmodels.formula.api as smf"
      ],
      "metadata": {
        "id": "l_y1kX9WyUgf"
      },
      "execution_count": 6,
      "outputs": []
    },
    {
      "cell_type": "code",
      "source": [
        "df_10 = pd.read_csv('/content/homework_10.1.csv')\n",
        "df_10.head()"
      ],
      "metadata": {
        "colab": {
          "base_uri": "https://localhost:8080/",
          "height": 206
        },
        "id": "GqQZwHIizKNh",
        "outputId": "da64a1b7-8dd3-4d9f-c280-32fdc6d9edcf"
      },
      "execution_count": 4,
      "outputs": [
        {
          "output_type": "execute_result",
          "data": {
            "text/plain": [
              "   Unnamed: 0  city  time         X          y\n",
              "0           0     0     0  0.144044   7.552716\n",
              "1           1     0     1  1.454274  10.077829\n",
              "2           2     0     2  0.761038  12.372731\n",
              "3           3     0     3  0.121675  11.489263\n",
              "4           4     0     4  0.443863  13.104833"
            ],
            "text/html": [
              "\n",
              "  <div id=\"df-817b2c78-3dd5-4cbb-8b8d-bf6f2ccdb4de\" class=\"colab-df-container\">\n",
              "    <div>\n",
              "<style scoped>\n",
              "    .dataframe tbody tr th:only-of-type {\n",
              "        vertical-align: middle;\n",
              "    }\n",
              "\n",
              "    .dataframe tbody tr th {\n",
              "        vertical-align: top;\n",
              "    }\n",
              "\n",
              "    .dataframe thead th {\n",
              "        text-align: right;\n",
              "    }\n",
              "</style>\n",
              "<table border=\"1\" class=\"dataframe\">\n",
              "  <thead>\n",
              "    <tr style=\"text-align: right;\">\n",
              "      <th></th>\n",
              "      <th>Unnamed: 0</th>\n",
              "      <th>city</th>\n",
              "      <th>time</th>\n",
              "      <th>X</th>\n",
              "      <th>y</th>\n",
              "    </tr>\n",
              "  </thead>\n",
              "  <tbody>\n",
              "    <tr>\n",
              "      <th>0</th>\n",
              "      <td>0</td>\n",
              "      <td>0</td>\n",
              "      <td>0</td>\n",
              "      <td>0.144044</td>\n",
              "      <td>7.552716</td>\n",
              "    </tr>\n",
              "    <tr>\n",
              "      <th>1</th>\n",
              "      <td>1</td>\n",
              "      <td>0</td>\n",
              "      <td>1</td>\n",
              "      <td>1.454274</td>\n",
              "      <td>10.077829</td>\n",
              "    </tr>\n",
              "    <tr>\n",
              "      <th>2</th>\n",
              "      <td>2</td>\n",
              "      <td>0</td>\n",
              "      <td>2</td>\n",
              "      <td>0.761038</td>\n",
              "      <td>12.372731</td>\n",
              "    </tr>\n",
              "    <tr>\n",
              "      <th>3</th>\n",
              "      <td>3</td>\n",
              "      <td>0</td>\n",
              "      <td>3</td>\n",
              "      <td>0.121675</td>\n",
              "      <td>11.489263</td>\n",
              "    </tr>\n",
              "    <tr>\n",
              "      <th>4</th>\n",
              "      <td>4</td>\n",
              "      <td>0</td>\n",
              "      <td>4</td>\n",
              "      <td>0.443863</td>\n",
              "      <td>13.104833</td>\n",
              "    </tr>\n",
              "  </tbody>\n",
              "</table>\n",
              "</div>\n",
              "    <div class=\"colab-df-buttons\">\n",
              "\n",
              "  <div class=\"colab-df-container\">\n",
              "    <button class=\"colab-df-convert\" onclick=\"convertToInteractive('df-817b2c78-3dd5-4cbb-8b8d-bf6f2ccdb4de')\"\n",
              "            title=\"Convert this dataframe to an interactive table.\"\n",
              "            style=\"display:none;\">\n",
              "\n",
              "  <svg xmlns=\"http://www.w3.org/2000/svg\" height=\"24px\" viewBox=\"0 -960 960 960\">\n",
              "    <path d=\"M120-120v-720h720v720H120Zm60-500h600v-160H180v160Zm220 220h160v-160H400v160Zm0 220h160v-160H400v160ZM180-400h160v-160H180v160Zm440 0h160v-160H620v160ZM180-180h160v-160H180v160Zm440 0h160v-160H620v160Z\"/>\n",
              "  </svg>\n",
              "    </button>\n",
              "\n",
              "  <style>\n",
              "    .colab-df-container {\n",
              "      display:flex;\n",
              "      gap: 12px;\n",
              "    }\n",
              "\n",
              "    .colab-df-convert {\n",
              "      background-color: #E8F0FE;\n",
              "      border: none;\n",
              "      border-radius: 50%;\n",
              "      cursor: pointer;\n",
              "      display: none;\n",
              "      fill: #1967D2;\n",
              "      height: 32px;\n",
              "      padding: 0 0 0 0;\n",
              "      width: 32px;\n",
              "    }\n",
              "\n",
              "    .colab-df-convert:hover {\n",
              "      background-color: #E2EBFA;\n",
              "      box-shadow: 0px 1px 2px rgba(60, 64, 67, 0.3), 0px 1px 3px 1px rgba(60, 64, 67, 0.15);\n",
              "      fill: #174EA6;\n",
              "    }\n",
              "\n",
              "    .colab-df-buttons div {\n",
              "      margin-bottom: 4px;\n",
              "    }\n",
              "\n",
              "    [theme=dark] .colab-df-convert {\n",
              "      background-color: #3B4455;\n",
              "      fill: #D2E3FC;\n",
              "    }\n",
              "\n",
              "    [theme=dark] .colab-df-convert:hover {\n",
              "      background-color: #434B5C;\n",
              "      box-shadow: 0px 1px 3px 1px rgba(0, 0, 0, 0.15);\n",
              "      filter: drop-shadow(0px 1px 2px rgba(0, 0, 0, 0.3));\n",
              "      fill: #FFFFFF;\n",
              "    }\n",
              "  </style>\n",
              "\n",
              "    <script>\n",
              "      const buttonEl =\n",
              "        document.querySelector('#df-817b2c78-3dd5-4cbb-8b8d-bf6f2ccdb4de button.colab-df-convert');\n",
              "      buttonEl.style.display =\n",
              "        google.colab.kernel.accessAllowed ? 'block' : 'none';\n",
              "\n",
              "      async function convertToInteractive(key) {\n",
              "        const element = document.querySelector('#df-817b2c78-3dd5-4cbb-8b8d-bf6f2ccdb4de');\n",
              "        const dataTable =\n",
              "          await google.colab.kernel.invokeFunction('convertToInteractive',\n",
              "                                                    [key], {});\n",
              "        if (!dataTable) return;\n",
              "\n",
              "        const docLinkHtml = 'Like what you see? Visit the ' +\n",
              "          '<a target=\"_blank\" href=https://colab.research.google.com/notebooks/data_table.ipynb>data table notebook</a>'\n",
              "          + ' to learn more about interactive tables.';\n",
              "        element.innerHTML = '';\n",
              "        dataTable['output_type'] = 'display_data';\n",
              "        await google.colab.output.renderOutput(dataTable, element);\n",
              "        const docLink = document.createElement('div');\n",
              "        docLink.innerHTML = docLinkHtml;\n",
              "        element.appendChild(docLink);\n",
              "      }\n",
              "    </script>\n",
              "  </div>\n",
              "\n",
              "\n",
              "    <div id=\"df-f4738819-0de0-4a39-975c-7688ffb98c7c\">\n",
              "      <button class=\"colab-df-quickchart\" onclick=\"quickchart('df-f4738819-0de0-4a39-975c-7688ffb98c7c')\"\n",
              "                title=\"Suggest charts\"\n",
              "                style=\"display:none;\">\n",
              "\n",
              "<svg xmlns=\"http://www.w3.org/2000/svg\" height=\"24px\"viewBox=\"0 0 24 24\"\n",
              "     width=\"24px\">\n",
              "    <g>\n",
              "        <path d=\"M19 3H5c-1.1 0-2 .9-2 2v14c0 1.1.9 2 2 2h14c1.1 0 2-.9 2-2V5c0-1.1-.9-2-2-2zM9 17H7v-7h2v7zm4 0h-2V7h2v10zm4 0h-2v-4h2v4z\"/>\n",
              "    </g>\n",
              "</svg>\n",
              "      </button>\n",
              "\n",
              "<style>\n",
              "  .colab-df-quickchart {\n",
              "      --bg-color: #E8F0FE;\n",
              "      --fill-color: #1967D2;\n",
              "      --hover-bg-color: #E2EBFA;\n",
              "      --hover-fill-color: #174EA6;\n",
              "      --disabled-fill-color: #AAA;\n",
              "      --disabled-bg-color: #DDD;\n",
              "  }\n",
              "\n",
              "  [theme=dark] .colab-df-quickchart {\n",
              "      --bg-color: #3B4455;\n",
              "      --fill-color: #D2E3FC;\n",
              "      --hover-bg-color: #434B5C;\n",
              "      --hover-fill-color: #FFFFFF;\n",
              "      --disabled-bg-color: #3B4455;\n",
              "      --disabled-fill-color: #666;\n",
              "  }\n",
              "\n",
              "  .colab-df-quickchart {\n",
              "    background-color: var(--bg-color);\n",
              "    border: none;\n",
              "    border-radius: 50%;\n",
              "    cursor: pointer;\n",
              "    display: none;\n",
              "    fill: var(--fill-color);\n",
              "    height: 32px;\n",
              "    padding: 0;\n",
              "    width: 32px;\n",
              "  }\n",
              "\n",
              "  .colab-df-quickchart:hover {\n",
              "    background-color: var(--hover-bg-color);\n",
              "    box-shadow: 0 1px 2px rgba(60, 64, 67, 0.3), 0 1px 3px 1px rgba(60, 64, 67, 0.15);\n",
              "    fill: var(--button-hover-fill-color);\n",
              "  }\n",
              "\n",
              "  .colab-df-quickchart-complete:disabled,\n",
              "  .colab-df-quickchart-complete:disabled:hover {\n",
              "    background-color: var(--disabled-bg-color);\n",
              "    fill: var(--disabled-fill-color);\n",
              "    box-shadow: none;\n",
              "  }\n",
              "\n",
              "  .colab-df-spinner {\n",
              "    border: 2px solid var(--fill-color);\n",
              "    border-color: transparent;\n",
              "    border-bottom-color: var(--fill-color);\n",
              "    animation:\n",
              "      spin 1s steps(1) infinite;\n",
              "  }\n",
              "\n",
              "  @keyframes spin {\n",
              "    0% {\n",
              "      border-color: transparent;\n",
              "      border-bottom-color: var(--fill-color);\n",
              "      border-left-color: var(--fill-color);\n",
              "    }\n",
              "    20% {\n",
              "      border-color: transparent;\n",
              "      border-left-color: var(--fill-color);\n",
              "      border-top-color: var(--fill-color);\n",
              "    }\n",
              "    30% {\n",
              "      border-color: transparent;\n",
              "      border-left-color: var(--fill-color);\n",
              "      border-top-color: var(--fill-color);\n",
              "      border-right-color: var(--fill-color);\n",
              "    }\n",
              "    40% {\n",
              "      border-color: transparent;\n",
              "      border-right-color: var(--fill-color);\n",
              "      border-top-color: var(--fill-color);\n",
              "    }\n",
              "    60% {\n",
              "      border-color: transparent;\n",
              "      border-right-color: var(--fill-color);\n",
              "    }\n",
              "    80% {\n",
              "      border-color: transparent;\n",
              "      border-right-color: var(--fill-color);\n",
              "      border-bottom-color: var(--fill-color);\n",
              "    }\n",
              "    90% {\n",
              "      border-color: transparent;\n",
              "      border-bottom-color: var(--fill-color);\n",
              "    }\n",
              "  }\n",
              "</style>\n",
              "\n",
              "      <script>\n",
              "        async function quickchart(key) {\n",
              "          const quickchartButtonEl =\n",
              "            document.querySelector('#' + key + ' button');\n",
              "          quickchartButtonEl.disabled = true;  // To prevent multiple clicks.\n",
              "          quickchartButtonEl.classList.add('colab-df-spinner');\n",
              "          try {\n",
              "            const charts = await google.colab.kernel.invokeFunction(\n",
              "                'suggestCharts', [key], {});\n",
              "          } catch (error) {\n",
              "            console.error('Error during call to suggestCharts:', error);\n",
              "          }\n",
              "          quickchartButtonEl.classList.remove('colab-df-spinner');\n",
              "          quickchartButtonEl.classList.add('colab-df-quickchart-complete');\n",
              "        }\n",
              "        (() => {\n",
              "          let quickchartButtonEl =\n",
              "            document.querySelector('#df-f4738819-0de0-4a39-975c-7688ffb98c7c button');\n",
              "          quickchartButtonEl.style.display =\n",
              "            google.colab.kernel.accessAllowed ? 'block' : 'none';\n",
              "        })();\n",
              "      </script>\n",
              "    </div>\n",
              "\n",
              "    </div>\n",
              "  </div>\n"
            ],
            "application/vnd.google.colaboratory.intrinsic+json": {
              "type": "dataframe",
              "variable_name": "df_10",
              "summary": "{\n  \"name\": \"df_10\",\n  \"rows\": 360,\n  \"fields\": [\n    {\n      \"column\": \"Unnamed: 0\",\n      \"properties\": {\n        \"dtype\": \"number\",\n        \"std\": 104,\n        \"min\": 0,\n        \"max\": 359,\n        \"num_unique_values\": 360,\n        \"samples\": [\n          224,\n          42,\n          285\n        ],\n        \"semantic_type\": \"\",\n        \"description\": \"\"\n      }\n    },\n    {\n      \"column\": \"city\",\n      \"properties\": {\n        \"dtype\": \"number\",\n        \"std\": 2,\n        \"min\": 0,\n        \"max\": 9,\n        \"num_unique_values\": 10,\n        \"samples\": [\n          8,\n          1,\n          5\n        ],\n        \"semantic_type\": \"\",\n        \"description\": \"\"\n      }\n    },\n    {\n      \"column\": \"time\",\n      \"properties\": {\n        \"dtype\": \"number\",\n        \"std\": 3,\n        \"min\": 0,\n        \"max\": 11,\n        \"num_unique_values\": 12,\n        \"samples\": [\n          10,\n          9,\n          0\n        ],\n        \"semantic_type\": \"\",\n        \"description\": \"\"\n      }\n    },\n    {\n      \"column\": \"X\",\n      \"properties\": {\n        \"dtype\": \"number\",\n        \"std\": 0.9778926719740714,\n        \"min\": -2.77259275642665,\n        \"max\": 2.383144774863942,\n        \"num_unique_values\": 360,\n        \"samples\": [\n          -1.1561824318219127,\n          -0.510805137568873,\n          1.1368913626026953\n        ],\n        \"semantic_type\": \"\",\n        \"description\": \"\"\n      }\n    },\n    {\n      \"column\": \"y\",\n      \"properties\": {\n        \"dtype\": \"number\",\n        \"std\": 4.631341988009343,\n        \"min\": -5.68446831163823,\n        \"max\": 18.73660846962444,\n        \"num_unique_values\": 360,\n        \"samples\": [\n          3.537964389107591,\n          13.888250645680811,\n          15.618621940941868\n        ],\n        \"semantic_type\": \"\",\n        \"description\": \"\"\n      }\n    }\n  ]\n}"
            }
          },
          "metadata": {},
          "execution_count": 4
        }
      ]
    },
    {
      "cell_type": "code",
      "source": [
        "# Create a model: y depends on city and time\n",
        "model = smf.ols('y ~ C(city) + C(time)', data=df_10).fit()\n",
        "\n",
        "# Show the results\n",
        "print(model.summary())\n"
      ],
      "metadata": {
        "colab": {
          "base_uri": "https://localhost:8080/"
        },
        "id": "hedUCntC1vm2",
        "outputId": "e9d4f267-f21f-4346-c43e-b3f9ea52a3c2"
      },
      "execution_count": 7,
      "outputs": [
        {
          "output_type": "stream",
          "name": "stdout",
          "text": [
            "                            OLS Regression Results                            \n",
            "==============================================================================\n",
            "Dep. Variable:                      y   R-squared:                       0.866\n",
            "Model:                            OLS   Adj. R-squared:                  0.858\n",
            "Method:                 Least Squares   F-statistic:                     109.2\n",
            "Date:                Wed, 23 Jul 2025   Prob (F-statistic):          2.09e-134\n",
            "Time:                        01:13:19   Log-Likelihood:                -700.90\n",
            "No. Observations:                 360   AIC:                             1444.\n",
            "Df Residuals:                     339   BIC:                             1525.\n",
            "Df Model:                          20                                         \n",
            "Covariance Type:            nonrobust                                         \n",
            "=================================================================================\n",
            "                    coef    std err          t      P>|t|      [0.025      0.975]\n",
            "---------------------------------------------------------------------------------\n",
            "Intercept         6.6763      0.422     15.820      0.000       5.846       7.506\n",
            "C(city)[T.1]     -5.5561      0.412    -13.491      0.000      -6.366      -4.746\n",
            "C(city)[T.2]     -2.9415      0.412     -7.143      0.000      -3.752      -2.131\n",
            "C(city)[T.3]      2.0038      0.412      4.866      0.000       1.194       2.814\n",
            "C(city)[T.4]     -0.2347      0.412     -0.570      0.569      -1.045       0.575\n",
            "C(city)[T.5]    -11.0192      0.412    -26.756      0.000     -11.829     -10.209\n",
            "C(city)[T.6]     -2.8919      0.412     -7.022      0.000      -3.702      -2.082\n",
            "C(city)[T.7]     -7.6789      0.412    -18.646      0.000      -8.489      -6.869\n",
            "C(city)[T.8]     -7.5021      0.412    -18.216      0.000      -8.312      -6.692\n",
            "C(city)[T.9]     -5.3369      0.412    -12.959      0.000      -6.147      -4.527\n",
            "C(time)[T.1]      2.2523      0.451      4.992      0.000       1.365       3.140\n",
            "C(time)[T.2]      3.8044      0.451      8.433      0.000       2.917       4.692\n",
            "C(time)[T.3]      4.6189      0.451     10.238      0.000       3.731       5.506\n",
            "C(time)[T.4]      5.4925      0.451     12.175      0.000       4.605       6.380\n",
            "C(time)[T.5]      6.5624      0.451     14.546      0.000       5.675       7.450\n",
            "C(time)[T.6]      6.1901      0.451     13.721      0.000       5.303       7.078\n",
            "C(time)[T.7]      5.7555      0.451     12.758      0.000       4.868       6.643\n",
            "C(time)[T.8]      5.5153      0.451     12.225      0.000       4.628       6.403\n",
            "C(time)[T.9]      5.2554      0.451     11.649      0.000       4.368       6.143\n",
            "C(time)[T.10]     2.9606      0.451      6.563      0.000       2.073       3.848\n",
            "C(time)[T.11]     1.9317      0.451      4.282      0.000       1.044       2.819\n",
            "==============================================================================\n",
            "Omnibus:                        0.449   Durbin-Watson:                   2.006\n",
            "Prob(Omnibus):                  0.799   Jarque-Bera (JB):                0.284\n",
            "Skew:                           0.052   Prob(JB):                        0.867\n",
            "Kurtosis:                       3.091   Cond. No.                         13.5\n",
            "==============================================================================\n",
            "\n",
            "Notes:\n",
            "[1] Standard Errors assume that the covariance matrix of the errors is correctly specified.\n"
          ]
        }
      ]
    },
    {
      "cell_type": "code",
      "source": [
        "# Extract time fixed effects\n",
        "time_effects = model.params.filter(like='C(time)')\n",
        "\n",
        "# Show all fixed effects for time\n",
        "print(time_effects)\n"
      ],
      "metadata": {
        "colab": {
          "base_uri": "https://localhost:8080/"
        },
        "id": "xz9Koyi218sr",
        "outputId": "7cddf92c-5988-4e24-f5b1-195559665080"
      },
      "execution_count": 8,
      "outputs": [
        {
          "output_type": "stream",
          "name": "stdout",
          "text": [
            "C(time)[T.1]     2.252281\n",
            "C(time)[T.2]     3.804417\n",
            "C(time)[T.3]     4.618865\n",
            "C(time)[T.4]     5.492543\n",
            "C(time)[T.5]     6.562369\n",
            "C(time)[T.6]     6.190129\n",
            "C(time)[T.7]     5.755543\n",
            "C(time)[T.8]     5.515259\n",
            "C(time)[T.9]     5.255354\n",
            "C(time)[T.10]    2.960641\n",
            "C(time)[T.11]    1.931654\n",
            "dtype: float64\n"
          ]
        }
      ]
    },
    {
      "cell_type": "code",
      "source": [
        "# Add the baseline effect (intercept) to all time fixed effects\n",
        "intercept = model.params['Intercept']\n",
        "all_times = {}\n",
        "\n",
        "# Time 0 = intercept only\n",
        "all_times[0] = intercept\n",
        "\n",
        "# Time 1 to 11 = intercept + coefficient\n",
        "for t in range(1, 12):\n",
        "    coef_name = f'C(time)[T.{t}]'\n",
        "    all_times[t] = intercept + model.params.get(coef_name, 0)\n",
        "\n",
        "# Turn it into a readable DataFrame\n",
        "df_time_effects = pd.DataFrame.from_dict(all_times, orient='index', columns=['Fixed Effect'])\n",
        "df_time_effects.index.name = 'Time'\n",
        "print(df_time_effects)\n"
      ],
      "metadata": {
        "colab": {
          "base_uri": "https://localhost:8080/"
        },
        "id": "gIpd4nPY2CZE",
        "outputId": "ad52cca2-19c5-41a9-cbb7-4fbdb38d8ba4"
      },
      "execution_count": 9,
      "outputs": [
        {
          "output_type": "stream",
          "name": "stdout",
          "text": [
            "      Fixed Effect\n",
            "Time              \n",
            "0         6.676278\n",
            "1         8.928559\n",
            "2        10.480695\n",
            "3        11.295143\n",
            "4        12.168821\n",
            "5        13.238647\n",
            "6        12.866408\n",
            "7        12.431822\n",
            "8        12.191537\n",
            "9        11.931632\n",
            "10        9.636919\n",
            "11        8.607932\n"
          ]
        }
      ]
    }
  ]
}